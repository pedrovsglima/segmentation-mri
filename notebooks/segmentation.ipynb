{
 "cells": [
  {
   "cell_type": "code",
   "execution_count": 1,
   "metadata": {},
   "outputs": [],
   "source": [
    "import io\n",
    "import os\n",
    "import numpy as np\n",
    "import pandas as pd\n",
    "import pydicom\n",
    "import matplotlib.pyplot as plt\n",
    "\n",
    "import SimpleITK as sitk\n",
    "\n",
    "from dotenv import load_dotenv\n",
    "load_dotenv();"
   ]
  },
  {
   "cell_type": "code",
   "execution_count": 2,
   "metadata": {},
   "outputs": [],
   "source": [
    "data_path = os.getenv(\"MAIN_PATH\", \"\")\n",
    "\n",
    "DICOM_FOLDER = f\"{data_path}/MRI_SEG_DICOM/Breast_MRI_086/01-01-1990-NA-BREASTROUTINE-86704/5.000000-ax dyn 1st pass-39884/\"\n",
    "ANNOTATION_BOX_FILE = f\"{data_path}/Supplemental-Data/Annotation_Boxes.xlsx\""
   ]
  },
  {
   "cell_type": "markdown",
   "metadata": {},
   "source": [
    "## Tumor masks"
   ]
  },
  {
   "cell_type": "markdown",
   "metadata": {},
   "source": [
    "### convert DICOM to NRRD"
   ]
  },
  {
   "cell_type": "code",
   "execution_count": 3,
   "metadata": {},
   "outputs": [],
   "source": [
    "def collect_patient_data(root_dir, max_patients=0):\n",
    "\n",
    "    collected_paths = []\n",
    "    patient_count = 0\n",
    "\n",
    "    for patient_folder in os.listdir(root_dir):\n",
    "        patient_path = os.path.join(root_dir, patient_folder)\n",
    "\n",
    "        if not os.path.isdir(patient_path):\n",
    "            continue\n",
    "\n",
    "        if patient_count >= max_patients:\n",
    "            break\n",
    "\n",
    "        # get the random folder inside the patient folder\n",
    "        random_folder = next((f for f in os.listdir(patient_path) if os.path.isdir(os.path.join(patient_path, f))), None)\n",
    "        if not random_folder:\n",
    "            continue\n",
    "\n",
    "        random_folder_path = os.path.join(patient_path, random_folder)\n",
    "\n",
    "        for modality_folder in os.listdir(random_folder_path):\n",
    "            modality_path = os.path.join(random_folder_path, modality_folder)\n",
    "            if os.path.isdir(modality_path) and \"segment\" not in modality_path.lower():\n",
    "                idx = modality_path.find(\"Breast_MRI_\")\n",
    "                collected_paths.append(modality_path[idx:])\n",
    "\n",
    "        patient_count += 1\n",
    "\n",
    "    return collected_paths\n",
    "\n",
    "MRI_DICOM_FOLDER = f\"{data_path}/MRI_SEG_DICOM/\"\n",
    "max_patients_to_process = 2\n",
    "valid_paths = collect_patient_data(MRI_DICOM_FOLDER, max_patients=max_patients_to_process)"
   ]
  },
  {
   "cell_type": "code",
   "execution_count": 4,
   "metadata": {},
   "outputs": [],
   "source": [
    "mapping_paths = {}\n",
    "for chunk in pd.read_csv(\"/media/pedro-lima/HDD/downloads/File_Path_Mapping_Tables.csv\", chunksize=1_000):\n",
    "    chunk[\"original_path_and_filename\"] = chunk[\"original_path_and_filename\"].apply(os.path.dirname).str.replace(\"DICOM_Images/\", data_path+\"/MRI_NRRD/\") + \".nrrd\"\n",
    "    \n",
    "    chunk[\"descriptive_path\"] = chunk[\"descriptive_path\"].apply(os.path.dirname)\n",
    "    chunk[\"descriptive_path\"] = chunk[\"descriptive_path\"].str.replace(r'BreastMRI(\\d+)', r'Breast_MRI_\\1', regex=True)\n",
    "    chunk[\"descriptive_path\"] = chunk[\"descriptive_path\"].apply(lambda x: x[x.find(\"Breast_MRI_\"):])\n",
    "\n",
    "    chunk.drop_duplicates(inplace=True)\n",
    "    mapping_paths.update(chunk.set_index(\"descriptive_path\")[\"original_path_and_filename\"].to_dict())\n",
    "\n",
    "mapping_paths = {k: v for k, v in mapping_paths.items() if list(mapping_paths.values()).count(v) == 1}"
   ]
  },
  {
   "cell_type": "code",
   "execution_count": 5,
   "metadata": {},
   "outputs": [],
   "source": [
    "new_dict = {}\n",
    "\n",
    "for p in valid_paths:\n",
    "    for m,v in mapping_paths.items():\n",
    "        if p.split(\"/\")[0] == m.split(\"/\")[0] and p.split(\"-\")[-1] == m.split(\"-\")[-1]:\n",
    "            new_dict[f\"{data_path}/MRI_SEG_DICOM/{p}\"] = v"
   ]
  },
  {
   "cell_type": "code",
   "execution_count": 6,
   "metadata": {},
   "outputs": [],
   "source": [
    "def dicom_to_nrrd(dicom_folder, nrrd_path):\n",
    "    \"\"\"load the DICOM images, stack them into a 3D array, and save them as an NRRD file\"\"\"\n",
    "    dicom_reader = sitk.ImageSeriesReader()\n",
    "    dicom_files = dicom_reader.GetGDCMSeriesFileNames(dicom_folder)\n",
    "    dicom_reader.SetFileNames(dicom_files)\n",
    "    image_3d = dicom_reader.Execute()\n",
    "    \n",
    "    os.makedirs(os.path.dirname(nrrd_path), exist_ok=True)\n",
    "    sitk.WriteImage(image_3d, nrrd_path)\n"
   ]
  },
  {
   "cell_type": "code",
   "execution_count": null,
   "metadata": {},
   "outputs": [],
   "source": [
    "for d_folder, nrrd_file  in new_dict.items():\n",
    "    dicom_to_nrrd(d_folder, nrrd_file)"
   ]
  },
  {
   "cell_type": "markdown",
   "metadata": {},
   "source": [
    "### get 3D bounding boxes from annotation boxes"
   ]
  },
  {
   "cell_type": "code",
   "execution_count": null,
   "metadata": {},
   "outputs": [],
   "source": [
    "import numpy as np\n",
    "\n",
    "def create_mask(image_shape, annotation):\n",
    "\n",
    "    mask = np.zeros(image_shape, dtype=np.uint8)\n",
    "    start_row, end_row = annotation[\"Start Row\"], annotation[\"End Row\"]\n",
    "    start_col, end_col = annotation[\"Start Column\"], annotation[\"End Column\"]\n",
    "    start_slice, end_slice = annotation[\"Start Slice\"], annotation[\"End Slice\"]\n",
    "\n",
    "    mask[start_slice:end_slice + 1, start_row:end_row + 1, start_col:end_col + 1] = 1\n",
    "    return mask\n",
    "\n",
    "import SimpleITK as sitk\n",
    "\n",
    "def save_mask(mask, reference_image_path, output_path):\n",
    "    \"\"\"\n",
    "    Save the binary mask as a NIfTI file with reference metadata.\n",
    "    :param mask: 3D numpy array (binary mask).\n",
    "    :param reference_image_path: Path to the original DICOM or reference NIfTI.\n",
    "    :param output_path: Path to save the output mask.\n",
    "    \"\"\"\n",
    "    reference_image = sitk.ReadImage(reference_image_path)\n",
    "    mask_image = sitk.GetImageFromArray(mask)\n",
    "    mask_image.CopyInformation(reference_image)\n",
    "    sitk.WriteImage(mask_image, output_path)\n",
    "\n",
    "import os\n",
    "\n",
    "def process_all_patients(patients_dir, annotations, output_dir):\n",
    "    \"\"\"\n",
    "    Process all patients to generate segmentation masks.\n",
    "    :param patients_dir: Directory containing patient DICOM folders.\n",
    "    :param annotations: DataFrame or dict containing annotation boxes for all patients.\n",
    "    :param output_dir: Directory to save the masks.\n",
    "    \"\"\"\n",
    "    for patient_id, annotation in annotations.items():\n",
    "        patient_folder = os.path.join(patients_dir, f\"Breast_MRI_{patient_id}\")\n",
    "        dicom_files = load_dicom_files(patient_folder)  # Your existing `load_dicom_files` function\n",
    "        reference_image_path = dicom_files[0].filename\n",
    "\n",
    "        # Create mask\n",
    "        image_shape = (len(dicom_files), dicom_files[0].Rows, dicom_files[0].Columns)\n",
    "        mask = create_mask(image_shape, annotation)\n",
    "\n",
    "        # Save mask\n",
    "        output_path = os.path.join(output_dir, f\"Breast_MRI_{patient_id}_mask.nii.gz\")\n",
    "        save_mask(mask, reference_image_path, output_path)"
   ]
  },
  {
   "cell_type": "code",
   "execution_count": null,
   "metadata": {},
   "outputs": [],
   "source": [
    "# Create a 3D Mask Based on Annotation Boxes\n",
    "# create a mask where the tumor voxels are set to 1 and other voxels are set to 0\n",
    "import numpy as np\n",
    "\n",
    "def create_3d_mask(dicom_folder, annotation_df, nrrd_path):\n",
    "    # Load the 3D DICOM volume\n",
    "    dicom_reader = sitk.ImageSeriesReader()\n",
    "    dicom_files = dicom_reader.GetGDCMSeriesFileNames(dicom_folder)\n",
    "    dicom_reader.SetFileNames(dicom_files)\n",
    "    image_3d = dicom_reader.Execute()\n",
    "    \n",
    "    # Convert the image to a numpy array\n",
    "    image_array = sitk.GetArrayFromImage(image_3d)\n",
    "\n",
    "    # Create an empty mask (same size as the image)\n",
    "    mask_array = np.zeros_like(image_array)\n",
    "\n",
    "    # Iterate through each patient's annotation box\n",
    "    for _, annotation in annotation_df.iterrows():\n",
    "        # Extract annotation box coordinates for each slice\n",
    "        start_row, end_row = int(annotation[\"Start Row\"]), int(annotation[\"End Row\"])\n",
    "        start_column, end_column = int(annotation[\"Start Column\"]), int(annotation[\"End Column\"])\n",
    "        start_slice, end_slice = int(annotation[\"Start Slice\"]), int(annotation[\"End Slice\"])\n",
    "\n",
    "        # Fill the mask array for the tumor region\n",
    "        mask_array[start_slice:end_slice, start_row:end_row, start_column:end_column] = 1\n",
    "\n",
    "    # Convert the mask array back to a SimpleITK image\n",
    "    mask_image = sitk.GetImageFromArray(mask_array)\n",
    "\n",
    "    # Save the mask as NRRD (same format as the image)\n",
    "    mask_path = 'path_to_output_mask.nrrd'\n",
    "    sitk.WriteImage(mask_image, mask_path)\n",
    "\n",
    "# Example usage\n",
    "annotation_df = pd.read_csv('annotation_boxes.csv')  # Replace with the path to your annotation CSV\n",
    "create_3d_mask(dicom_folder, annotation_df, nrrd_path)"
   ]
  }
 ],
 "metadata": {
  "kernelspec": {
   "display_name": "seg-mri",
   "language": "python",
   "name": "python3"
  },
  "language_info": {
   "codemirror_mode": {
    "name": "ipython",
    "version": 3
   },
   "file_extension": ".py",
   "mimetype": "text/x-python",
   "name": "python",
   "nbconvert_exporter": "python",
   "pygments_lexer": "ipython3",
   "version": "3.10.16"
  }
 },
 "nbformat": 4,
 "nbformat_minor": 2
}
