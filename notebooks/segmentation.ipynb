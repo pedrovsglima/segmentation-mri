{
 "cells": [
  {
   "cell_type": "code",
   "execution_count": 1,
   "metadata": {},
   "outputs": [],
   "source": [
    "import io\n",
    "import os\n",
    "import numpy as np\n",
    "import pandas as pd\n",
    "import pydicom\n",
    "import nrrd\n",
    "import matplotlib.pyplot as plt\n",
    "\n",
    "import SimpleITK as sitk\n",
    "\n",
    "from dotenv import load_dotenv\n",
    "load_dotenv();"
   ]
  },
  {
   "cell_type": "code",
   "execution_count": 2,
   "metadata": {},
   "outputs": [],
   "source": [
    "data_path = os.getenv(\"MAIN_PATH\", \"\")\n",
    "\n",
    "DICOM_FOLDER = f\"{data_path}/MRI_SEG_DICOM/Breast_MRI_086/01-01-1990-NA-BREASTROUTINE-86704/5.000000-ax dyn 1st pass-39884/\"\n",
    "# ANNOTATION_BOX_FILE = f\"{data_path}/Supplemental-Data/Annotation_Boxes.xlsx\"\n",
    "ANNOTATION_BOX_FILE = f\"{data_path}/Annotation_Boxes.xlsx\"\n",
    "\n",
    "NRRD_FILE = f\"{data_path}/nrrd_images/Breast_MRI_052/post_1.nrrd\""
   ]
  },
  {
   "cell_type": "markdown",
   "metadata": {},
   "source": [
    "## Tumor masks"
   ]
  },
  {
   "cell_type": "markdown",
   "metadata": {},
   "source": [
    "### convert DICOM to NRRD"
   ]
  },
  {
   "cell_type": "code",
   "execution_count": 3,
   "metadata": {},
   "outputs": [],
   "source": [
    "def collect_patient_data(root_dir, max_patients=0):\n",
    "\n",
    "    collected_paths = []\n",
    "    patient_count = 0\n",
    "\n",
    "    for patient_folder in os.listdir(root_dir):\n",
    "        patient_path = os.path.join(root_dir, patient_folder)\n",
    "\n",
    "        if not os.path.isdir(patient_path):\n",
    "            continue\n",
    "\n",
    "        if patient_count >= max_patients:\n",
    "            break\n",
    "\n",
    "        # get the random folder inside the patient folder\n",
    "        random_folder = next((f for f in os.listdir(patient_path) if os.path.isdir(os.path.join(patient_path, f))), None)\n",
    "        if not random_folder:\n",
    "            continue\n",
    "\n",
    "        random_folder_path = os.path.join(patient_path, random_folder)\n",
    "\n",
    "        for modality_folder in os.listdir(random_folder_path):\n",
    "            modality_path = os.path.join(random_folder_path, modality_folder)\n",
    "            if os.path.isdir(modality_path) and \"segment\" not in modality_path.lower():\n",
    "                idx = modality_path.find(\"Breast_MRI_\")\n",
    "                collected_paths.append(modality_path[idx:])\n",
    "\n",
    "        patient_count += 1\n",
    "\n",
    "    return collected_paths\n",
    "\n",
    "MRI_DICOM_FOLDER = f\"{data_path}/MRI_SEG_DICOM/\"\n",
    "max_patients_to_process = 2\n",
    "valid_paths = collect_patient_data(MRI_DICOM_FOLDER, max_patients=max_patients_to_process)"
   ]
  },
  {
   "cell_type": "code",
   "execution_count": 4,
   "metadata": {},
   "outputs": [],
   "source": [
    "mapping_paths = {}\n",
    "for chunk in pd.read_csv(\"/media/pedro-lima/HDD/downloads/File_Path_Mapping_Tables.csv\", chunksize=1_000):\n",
    "    chunk[\"original_path_and_filename\"] = chunk[\"original_path_and_filename\"].apply(os.path.dirname).str.replace(\"DICOM_Images/\", data_path+\"/MRI_NRRD/\") + \".nrrd\"\n",
    "    \n",
    "    chunk[\"descriptive_path\"] = chunk[\"descriptive_path\"].apply(os.path.dirname)\n",
    "    chunk[\"descriptive_path\"] = chunk[\"descriptive_path\"].str.replace(r'BreastMRI(\\d+)', r'Breast_MRI_\\1', regex=True)\n",
    "    chunk[\"descriptive_path\"] = chunk[\"descriptive_path\"].apply(lambda x: x[x.find(\"Breast_MRI_\"):])\n",
    "\n",
    "    chunk.drop_duplicates(inplace=True)\n",
    "    mapping_paths.update(chunk.set_index(\"descriptive_path\")[\"original_path_and_filename\"].to_dict())\n",
    "\n",
    "mapping_paths = {k: v for k, v in mapping_paths.items() if list(mapping_paths.values()).count(v) == 1}"
   ]
  },
  {
   "cell_type": "code",
   "execution_count": 5,
   "metadata": {},
   "outputs": [],
   "source": [
    "new_dict = {}\n",
    "\n",
    "for p in valid_paths:\n",
    "    for m,v in mapping_paths.items():\n",
    "        if p.split(\"/\")[0] == m.split(\"/\")[0] and p.split(\"-\")[-1] == m.split(\"-\")[-1]:\n",
    "            new_dict[f\"{data_path}/MRI_SEG_DICOM/{p}\"] = v"
   ]
  },
  {
   "cell_type": "code",
   "execution_count": 6,
   "metadata": {},
   "outputs": [],
   "source": [
    "def dicom_to_nrrd(dicom_folder, nrrd_path):\n",
    "    \"\"\"load the DICOM images, stack them into a 3D array, and save them as an NRRD file\"\"\"\n",
    "    dicom_reader = sitk.ImageSeriesReader()\n",
    "    dicom_files = dicom_reader.GetGDCMSeriesFileNames(dicom_folder)\n",
    "    dicom_reader.SetFileNames(dicom_files)\n",
    "    image_3d = dicom_reader.Execute()\n",
    "    \n",
    "    os.makedirs(os.path.dirname(nrrd_path), exist_ok=True)\n",
    "    sitk.WriteImage(image_3d, nrrd_path)\n"
   ]
  },
  {
   "cell_type": "code",
   "execution_count": null,
   "metadata": {},
   "outputs": [],
   "source": [
    "for d_folder, nrrd_file  in new_dict.items():\n",
    "    dicom_to_nrrd(d_folder, nrrd_file)"
   ]
  },
  {
   "cell_type": "code",
   "execution_count": 4,
   "metadata": {},
   "outputs": [
    {
     "name": "stdout",
     "output_type": "stream",
     "text": [
      "Total files: 5033\n"
     ]
    }
   ],
   "source": [
    "### checar se foram criados os arquivos nrrd\n",
    "def count_files(main_path):\n",
    "    total_files = 0\n",
    "\n",
    "    for root, dirs, files in os.walk(main_path):\n",
    "        # dirs[:] = [d for d in dirs if 'segment' not in d.lower()]\n",
    "        total_files += len(files)\n",
    "    \n",
    "    return total_files\n",
    "\n",
    "file_count_nrrd = count_files(f\"{data_path}/MRI_NRRD/\")\n",
    "print(f\"Total files: {file_count_nrrd}\")"
   ]
  },
  {
   "cell_type": "markdown",
   "metadata": {},
   "source": [
    "### get 3D bounding boxes from annotation boxes"
   ]
  },
  {
   "cell_type": "code",
   "execution_count": null,
   "metadata": {},
   "outputs": [
    {
     "name": "stdout",
     "output_type": "stream",
     "text": [
      "Image shape: (128, 448, 448)\n",
      "148 173 340 361 54 67\n"
     ]
    }
   ],
   "source": [
    "# Create a 3D Mask Based on Annotation Boxes\n",
    "# create a mask where the tumor voxels are set to 1 and other voxels are set to 0\n",
    "def create_3d_mask(nrrd_path, annotation_df, patient_id):\n",
    "    image_3d = sitk.ReadImage(nrrd_path)\n",
    "\n",
    "    image_array = sitk.GetArrayFromImage(image_3d)\n",
    "    print(\"Image shape:\", image_array.shape)\n",
    "\n",
    "    mask_array = np.zeros_like(image_array)\n",
    "    total_slices = image_array.shape[0]\n",
    "\n",
    "    annotation = annotation_df[annotation_df['Patient ID'] == patient_id].iloc[0]\n",
    "    start_row = int(annotation[\"Start Row\"])\n",
    "    end_row = int(annotation[\"End Row\"])\n",
    "    start_column = int(annotation[\"Start Column\"])\n",
    "    end_column = int(annotation[\"End Column\"])\n",
    "    start_slice = int(annotation[\"Start Slice\"])\n",
    "    end_slice = int(annotation[\"End Slice\"])\n",
    "    print(start_row, end_row, start_column, end_column, start_slice, end_slice)\n",
    "\n",
    "    slice_spacing = image_3d.GetSpacing()[2]\n",
    "\n",
    "    if slice_spacing < 0:  # negative spacing indicates descending order of height\n",
    "        start_slice = total_slices - end_slice + 1\n",
    "        end_slice = total_slices - start_slice + 1\n",
    "\n",
    "    mask_array[start_slice:end_slice, start_row:end_row, start_column:end_column] = 1\n",
    "\n",
    "    mask_image = sitk.GetImageFromArray(mask_array)\n",
    "    mask_image.CopyInformation(image_3d)\n",
    "    # mask_image = sitk.Cast(mask_image, sitk.sitkUInt8)  # ensure it's a label map (binary)\n",
    "\n",
    "    mask_path = f'{data_path}/nrrd_masks/output_{patient_id}.seg.nrrd'\n",
    "    sitk.WriteImage(mask_image, mask_path)\n",
    "\n",
    "# example\n",
    "annotation_df = pd.read_excel(ANNOTATION_BOX_FILE)\n",
    "patient_id = NRRD_FILE.split(\"/\")[-2]\n",
    "create_3d_mask(NRRD_FILE, annotation_df, patient_id)"
   ]
  }
 ],
 "metadata": {
  "kernelspec": {
   "display_name": "seg-mri",
   "language": "python",
   "name": "python3"
  },
  "language_info": {
   "codemirror_mode": {
    "name": "ipython",
    "version": 3
   },
   "file_extension": ".py",
   "mimetype": "text/x-python",
   "name": "python",
   "nbconvert_exporter": "python",
   "pygments_lexer": "ipython3",
   "version": "3.10.16"
  }
 },
 "nbformat": 4,
 "nbformat_minor": 2
}
