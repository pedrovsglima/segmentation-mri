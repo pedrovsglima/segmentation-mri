{
 "cells": [
  {
   "cell_type": "code",
   "execution_count": 2,
   "metadata": {},
   "outputs": [],
   "source": [
    "import os\n",
    "import numpy as np\n",
    "import pandas as pd\n",
    "import pydicom\n",
    "import napari\n",
    "import matplotlib.pyplot as plt\n",
    "\n",
    "import SimpleITK as sitk\n",
    "\n",
    "from dotenv import load_dotenv\n",
    "load_dotenv();"
   ]
  },
  {
   "cell_type": "markdown",
   "metadata": {},
   "source": [
    "## Tumor masks"
   ]
  },
  {
   "cell_type": "code",
   "execution_count": 2,
   "metadata": {},
   "outputs": [],
   "source": [
    "# data_path = os.getenv(\"MAIN_PATH\", \"\")\n",
    "data_path = \"/media/pedro-lima/HDD/downloads/tcia\"\n",
    "\n",
    "# DICOM_FOLDER = f\"{data_path}/MRI_SEG_DICOM/Breast_MRI_086/01-01-1990-NA-BREASTROUTINE-86704/5.000000-ax dyn 1st pass-39884/\"\n",
    "DICOM_FOLDER = f\"{data_path}/Duke-Breast-Cancer-MRI/Breast_MRI_052/01-01-1990-NA-BREASTROUTINEDYNAMICS-37889/7.000000-ax dyn 1st pass-37791/\"\n",
    "# DICOM_FOLDER = f\"{data_path}/Duke-Breast-Cancer-MRI/Breast_MRI_552/01-01-1990-NA-MRI BREAST BILATERAL W  WO-58725/6.000000-1st ax dyn-40086/\"\n",
    "# DICOM_FOLDER = f\"{data_path}/Duke-Breast-Cancer-MRI/Breast_MRI_102/01-01-1990-NA-MRI BREAST BILATERAL WWO-14980/5.000000-ax 3d dyn 1st pass-05549/\"\n",
    "\n",
    "# ANNOTATION_BOX_FILE = f\"{data_path}/Supplemental-Data/Annotation_Boxes.xlsx\"\n",
    "ANNOTATION_BOX_FILE = f\"{data_path}/Annotation_Boxes.xlsx\"\n",
    "\n",
    "NRRD_FILE = f\"{data_path}/nrrd_images/Breast_MRI_052/post_1.nrrd\""
   ]
  },
  {
   "cell_type": "markdown",
   "metadata": {},
   "source": [
    "### convert DICOM to NRRD"
   ]
  },
  {
   "cell_type": "code",
   "execution_count": 3,
   "metadata": {},
   "outputs": [],
   "source": [
    "def collect_patient_data(root_dir, max_patients=0):\n",
    "\n",
    "    collected_paths = []\n",
    "    patient_count = 0\n",
    "\n",
    "    for patient_folder in os.listdir(root_dir):\n",
    "        patient_path = os.path.join(root_dir, patient_folder)\n",
    "\n",
    "        if not os.path.isdir(patient_path):\n",
    "            continue\n",
    "\n",
    "        if patient_count >= max_patients:\n",
    "            break\n",
    "\n",
    "        # get the random folder inside the patient folder\n",
    "        random_folder = next((f for f in os.listdir(patient_path) if os.path.isdir(os.path.join(patient_path, f))), None)\n",
    "        if not random_folder:\n",
    "            continue\n",
    "\n",
    "        random_folder_path = os.path.join(patient_path, random_folder)\n",
    "\n",
    "        for modality_folder in os.listdir(random_folder_path):\n",
    "            modality_path = os.path.join(random_folder_path, modality_folder)\n",
    "            if os.path.isdir(modality_path) and \"segment\" not in modality_path.lower():\n",
    "                idx = modality_path.find(\"Breast_MRI_\")\n",
    "                collected_paths.append(modality_path[idx:])\n",
    "\n",
    "        patient_count += 1\n",
    "\n",
    "    return collected_paths\n",
    "\n",
    "MRI_DICOM_FOLDER = f\"{data_path}/MRI_SEG_DICOM/\"\n",
    "max_patients_to_process = 2\n",
    "valid_paths = collect_patient_data(MRI_DICOM_FOLDER, max_patients=max_patients_to_process)"
   ]
  },
  {
   "cell_type": "code",
   "execution_count": 4,
   "metadata": {},
   "outputs": [],
   "source": [
    "mapping_paths = {}\n",
    "for chunk in pd.read_csv(\"/media/pedro-lima/HDD/downloads/File_Path_Mapping_Tables.csv\", chunksize=1_000):\n",
    "    chunk[\"original_path_and_filename\"] = chunk[\"original_path_and_filename\"].apply(os.path.dirname).str.replace(\"DICOM_Images/\", data_path+\"/MRI_NRRD/\") + \".nrrd\"\n",
    "    \n",
    "    chunk[\"descriptive_path\"] = chunk[\"descriptive_path\"].apply(os.path.dirname)\n",
    "    chunk[\"descriptive_path\"] = chunk[\"descriptive_path\"].str.replace(r'BreastMRI(\\d+)', r'Breast_MRI_\\1', regex=True)\n",
    "    chunk[\"descriptive_path\"] = chunk[\"descriptive_path\"].apply(lambda x: x[x.find(\"Breast_MRI_\"):])\n",
    "\n",
    "    chunk.drop_duplicates(inplace=True)\n",
    "    mapping_paths.update(chunk.set_index(\"descriptive_path\")[\"original_path_and_filename\"].to_dict())\n",
    "\n",
    "mapping_paths = {k: v for k, v in mapping_paths.items() if list(mapping_paths.values()).count(v) == 1}"
   ]
  },
  {
   "cell_type": "code",
   "execution_count": 5,
   "metadata": {},
   "outputs": [],
   "source": [
    "new_dict = {}\n",
    "\n",
    "for p in valid_paths:\n",
    "    for m,v in mapping_paths.items():\n",
    "        if p.split(\"/\")[0] == m.split(\"/\")[0] and p.split(\"-\")[-1] == m.split(\"-\")[-1]:\n",
    "            new_dict[f\"{data_path}/MRI_SEG_DICOM/{p}\"] = v"
   ]
  },
  {
   "cell_type": "code",
   "execution_count": 6,
   "metadata": {},
   "outputs": [],
   "source": [
    "def dicom_to_nrrd(dicom_folder, nrrd_path):\n",
    "    \"\"\"load the DICOM images, stack them into a 3D array, and save them as an NRRD file\"\"\"\n",
    "    dicom_reader = sitk.ImageSeriesReader()\n",
    "    dicom_files = dicom_reader.GetGDCMSeriesFileNames(dicom_folder)\n",
    "    dicom_reader.SetFileNames(dicom_files)\n",
    "    image_3d = dicom_reader.Execute()\n",
    "    \n",
    "    os.makedirs(os.path.dirname(nrrd_path), exist_ok=True)\n",
    "    sitk.WriteImage(image_3d, nrrd_path)\n"
   ]
  },
  {
   "cell_type": "code",
   "execution_count": null,
   "metadata": {},
   "outputs": [],
   "source": [
    "for d_folder, nrrd_file  in new_dict.items():\n",
    "    dicom_to_nrrd(d_folder, nrrd_file)"
   ]
  },
  {
   "cell_type": "code",
   "execution_count": 4,
   "metadata": {},
   "outputs": [
    {
     "name": "stdout",
     "output_type": "stream",
     "text": [
      "Total files: 5033\n"
     ]
    }
   ],
   "source": [
    "### checar se foram criados os arquivos nrrd\n",
    "def count_files(main_path):\n",
    "    total_files = 0\n",
    "\n",
    "    for root, dirs, files in os.walk(main_path):\n",
    "        # dirs[:] = [d for d in dirs if 'segment' not in d.lower()]\n",
    "        total_files += len(files)\n",
    "    \n",
    "    return total_files\n",
    "\n",
    "file_count_nrrd = count_files(f\"{data_path}/MRI_NRRD/\")\n",
    "print(f\"Total files: {file_count_nrrd}\")"
   ]
  },
  {
   "cell_type": "markdown",
   "metadata": {},
   "source": [
    "### get 3D bounding boxes from annotation file"
   ]
  },
  {
   "cell_type": "code",
   "execution_count": 100,
   "metadata": {},
   "outputs": [
    {
     "name": "stdout",
     "output_type": "stream",
     "text": [
      "Image shape (Depth, Height, Width): (128, 448, 448)\n",
      "\n",
      "Origin (x, y, z): (-166.92173627525, -134.13198276848, -68.743050396442) - Physical coordinates of the voxel at index (0, 0, 0)\n",
      "\n",
      "Direction (3x3 matrix flattened): (1.0, 2.051034e-10, 0.0, -2.051034e-10, 1.0, 0.0, 0.0, 0.0, 0.9999999999999999) - Orientation of the image axes in physical space\n",
      "  - X-axis direction: (1.0, 2.051034e-10, 0.0)\n",
      "  - Y-axis direction: (-2.051034e-10, 1.0, 0.0)\n",
      "  - Z-axis direction: (0.0, 0.0, 0.9999999999999999)\n",
      "\n",
      "Size (Width, Height, Depth): (448, 448, 128) - Number of voxels along each dimension\n",
      "\n",
      "Spacing (x, y, z): (0.75892859697342, 0.75892859697342, 1.3999999761581259) - Physical size of each voxel in millimeters\n"
     ]
    }
   ],
   "source": [
    "image_3d = sitk.ReadImage(NRRD_FILE)\n",
    "\n",
    "image_array = sitk.GetArrayFromImage(image_3d)\n",
    "print(f\"Image shape (Depth, Height, Width): {image_array.shape}\")\n",
    "\n",
    "origin = image_3d.GetOrigin()\n",
    "print(f\"\\nOrigin (x, y, z): {origin} - Physical coordinates of the voxel at index (0, 0, 0)\")\n",
    "\n",
    "direction = image_3d.GetDirection()\n",
    "print(f\"\\nDirection (3x3 matrix flattened): {direction} - Orientation of the image axes in physical space\")\n",
    "print(\"  - X-axis direction:\", direction[:3])\n",
    "print(\"  - Y-axis direction:\", direction[3:6])\n",
    "print(\"  - Z-axis direction:\", direction[6:])\n",
    "\n",
    "size = image_3d.GetSize()\n",
    "print(f\"\\nSize (Width, Height, Depth): {size} - Number of voxels along each dimension\")\n",
    "\n",
    "spacing = image_3d.GetSpacing()\n",
    "print(f\"\\nSpacing (x, y, z): {spacing} - Physical size of each voxel in millimeters\")"
   ]
  },
  {
   "cell_type": "code",
   "execution_count": 101,
   "metadata": {},
   "outputs": [
    {
     "data": {
      "text/plain": [
       "{'Patient ID': 'Breast_MRI_052',\n",
       " 'Start Row': 148,\n",
       " 'End Row': 173,\n",
       " 'Start Column': 340,\n",
       " 'End Column': 361,\n",
       " 'Start Slice': 54,\n",
       " 'End Slice': 67}"
      ]
     },
     "execution_count": 101,
     "metadata": {},
     "output_type": "execute_result"
    }
   ],
   "source": [
    "patient_id = NRRD_FILE.split(\"/\")[-2]\n",
    "annotation_df = pd.read_excel(ANNOTATION_BOX_FILE)\n",
    "annotation_dict = annotation_df[annotation_df['Patient ID'] == patient_id].iloc[0].to_dict()\n",
    "annotation_dict"
   ]
  },
  {
   "cell_type": "code",
   "execution_count": null,
   "metadata": {},
   "outputs": [
    {
     "data": {
      "text/plain": [
       "{'Breast_MRI_001': 'Breast_MRI_001/01-01-1990-MRI BREAST BILATERAL W/WO-97538/5.000000-ax dyn 1st pass-59529',\n",
       " 'Breast_MRI_002': 'Breast_MRI_002/01-01-1990-MRI BREAST BILATERAL W + W/O-51972/601.000000-Ph1/ax 3d dyn-36797'}"
      ]
     },
     "execution_count": 117,
     "metadata": {},
     "output_type": "execute_result"
    }
   ],
   "source": [
    "mapping_paths = {}\n",
    "for chunk in pd.read_csv(f\"{data_path}/File_Path_Mapping_Tables.csv\", chunksize=5_000):\n",
    "    chunk = chunk[chunk['original_path_and_filename'].str.contains('post_1')]\n",
    "    chunk[\"original_path_and_filename\"] = chunk[\"original_path_and_filename\"].apply(os.path.dirname).str.replace(\"DICOM_Images/\", \"\").str.replace(\"/post_1\", \"\")\n",
    "    \n",
    "    chunk[\"descriptive_path\"] = chunk[\"descriptive_path\"].apply(os.path.dirname)\n",
    "    chunk[\"descriptive_path\"] = chunk[\"descriptive_path\"].str.replace(r'BreastMRI(\\d+)', r'Breast_MRI_\\1', regex=True)\n",
    "    chunk[\"descriptive_path\"] = chunk[\"descriptive_path\"].apply(lambda x: x[x.find(\"Breast_MRI_\"):])\n",
    "\n",
    "    chunk.drop_duplicates(inplace=True)\n",
    "    mapping_paths.update(chunk.set_index(\"original_path_and_filename\")[\"descriptive_path\"].to_dict())\n",
    "\n",
    "mapping_paths = {k: v for k, v in mapping_paths.items() if list(mapping_paths.values()).count(v) == 1}\n",
    "# example of mapping paths\n",
    "dict(list(mapping_paths.items())[:2])"
   ]
  },
  {
   "cell_type": "code",
   "execution_count": 115,
   "metadata": {},
   "outputs": [
    {
     "data": {
      "text/plain": [
       "['Breast_MRI_144/01-01-1990-NA-BREASTROUTINE CA-63773/7.000000-ax dyn 1st pass-08982',\n",
       " 'Breast_MRI_414/01-01-1990-NA-MRI BREAST BILATERAL WWO-20423/701.000000-Ph1ax 3d dyn-25824',\n",
       " 'Breast_MRI_108/01-01-1990-NA-MR BREAST BILAT W AND WO CONT-DR-28461/401.000000-Ph1Ax Vibrant MultiPhase-59216']"
      ]
     },
     "execution_count": 115,
     "metadata": {},
     "output_type": "execute_result"
    }
   ],
   "source": [
    "def collect_patient_data(root_dir, dict_ids, max_patients=0):\n",
    "    collected_paths = []\n",
    "    patient_count = 0\n",
    "\n",
    "    for patient_folder in os.listdir(root_dir):\n",
    "        folder_id = dict_ids.get(patient_folder)\n",
    "        folder_id = folder_id.split(\"-\")[-1]\n",
    "\n",
    "        patient_path = os.path.join(root_dir, patient_folder)\n",
    "\n",
    "        if not os.path.isdir(patient_path):\n",
    "            continue\n",
    "\n",
    "        if patient_count >= max_patients:\n",
    "            break\n",
    "\n",
    "        # get the random subfolder inside the patient folder\n",
    "        random_folder = next((f for f in os.listdir(patient_path) if os.path.isdir(os.path.join(patient_path, f))), None)\n",
    "        if not random_folder:\n",
    "            continue\n",
    "\n",
    "        random_folder_path = os.path.join(patient_path, random_folder)\n",
    "\n",
    "        for modality_folder in os.listdir(random_folder_path):\n",
    "            if folder_id in modality_folder:\n",
    "                modality_path = os.path.join(random_folder_path, modality_folder)\n",
    "                if os.path.isdir(modality_path) and \"segment\" not in modality_path.lower():\n",
    "                    idx = modality_path.find(\"Breast_MRI_\")\n",
    "                    collected_paths.append(modality_path[idx:])\n",
    "\n",
    "        patient_count += 1\n",
    "\n",
    "    return collected_paths\n",
    "\n",
    "collect_patient_data(f\"{data_path}/Duke-Breast-Cancer-MRI/\", mapping_paths, max_patients=3)"
   ]
  },
  {
   "cell_type": "code",
   "execution_count": null,
   "metadata": {},
   "outputs": [],
   "source": [
    "def create_3d_mask_from_dicom(dicom_folder, annotation_dict, output_path):\n",
    "    \"\"\"Create a 3D Mask Based on Annotation Boxes. Tumor voxels are set to 1 and other voxels are set to 0\"\"\"\n",
    "    dicom_files = [pydicom.dcmread(os.path.join(dicom_folder, f)) for f in sorted(os.listdir(dicom_folder)) if f.endswith('.dcm')]\n",
    "    total_slices = len(dicom_files)\n",
    "\n",
    "    start_slice, end_slice = int(annotation_dict['Start Slice']), int(annotation_dict['End Slice'])\n",
    "    start_row, end_row = int(annotation_dict['Start Row']), int(annotation_dict['End Row'])\n",
    "    start_column, end_column = int(annotation_dict['Start Column']), int(annotation_dict['End Column'])\n",
    "    # print(\"Annotation BBox:\", start_row, end_row, start_column, end_column, start_slice, end_slice)\n",
    "    \n",
    "    z_coordinates = [float(dcm.ImagePositionPatient[2]) for dcm in dicom_files]\n",
    "    ascending_order = z_coordinates[0] < z_coordinates[-1]\n",
    "    # print(f\"Z-coordinates: {z_coordinates[:3]} ... {z_coordinates[-3:]}\")\n",
    "    # print(f\"Ascending order detected: {ascending_order}\")\n",
    "    if not ascending_order:\n",
    "        dicom_files = dicom_files[::-1]\n",
    "        z_coordinates = z_coordinates[::-1]\n",
    "        start_slice, end_slice = total_slices - end_slice + 1, total_slices - start_slice + 1\n",
    "    # print(f\"Adjusted slice indices: {start_slice} to {end_slice}\")\n",
    "\n",
    "    image_array = np.stack([dcm.pixel_array for dcm in dicom_files], axis=0)\n",
    "    mask_array = np.zeros_like(image_array)\n",
    "\n",
    "    mask_array[start_slice:end_slice, start_row:end_row, start_column:end_column] = 1\n",
    "\n",
    "    mask_image = sitk.GetImageFromArray(mask_array)\n",
    "    \n",
    "    first_dicom = dicom_files[0]\n",
    "    image_3d = sitk.ReadImage(first_dicom.filename)\n",
    "    mask_image.SetSpacing(image_3d.GetSpacing())\n",
    "    mask_image.SetOrigin(image_3d.GetOrigin())\n",
    "    mask_image.SetDirection(image_3d.GetDirection())\n",
    "\n",
    "    sitk.WriteImage(mask_image, output_path)\n",
    "\n",
    "create_3d_mask_from_dicom(DICOM_FOLDER, annotation_dict, f'{data_path}/nrrd_masks/{patient_id}.seg.nrrd')"
   ]
  },
  {
   "cell_type": "markdown",
   "metadata": {},
   "source": [
    "## Segmentation"
   ]
  },
  {
   "cell_type": "markdown",
   "metadata": {},
   "source": [
    "### threshold"
   ]
  },
  {
   "cell_type": "code",
   "execution_count": 59,
   "metadata": {},
   "outputs": [],
   "source": [
    "MAIN_PATH = os.getenv(\"MAIN_PATH\", \"\")\n",
    "MASK_FOLDER = os.getenv(\"MASK_PATH\", \"\")\n",
    "\n",
    "PATIENT_ID=\"Breast_MRI_069\"\n",
    "# 052, 590\n",
    "\n",
    "IMAGE_PATH=f\"{MAIN_PATH}/{PATIENT_ID}/post_1.nrrd\"\n",
    "MASK_PATH=f\"{MASK_FOLDER}/{PATIENT_ID}.seg.nrrd\""
   ]
  },
  {
   "cell_type": "code",
   "execution_count": 41,
   "metadata": {},
   "outputs": [],
   "source": [
    "def intensity_distribution(mri_path, segmentation_path):\n",
    "    mri_image = sitk.ReadImage(mri_path)\n",
    "    mri_array = sitk.GetArrayFromImage(mri_image)\n",
    "\n",
    "    segmentation_image = sitk.ReadImage(segmentation_path)\n",
    "    segmentation_array = sitk.GetArrayFromImage(segmentation_image)\n",
    "\n",
    "    segmentation_array = (segmentation_array > 0).astype(np.uint8)\n",
    "\n",
    "    intensities = mri_array[segmentation_array > 0]\n",
    "\n",
    "    min_intensity = np.min(intensities)\n",
    "    max_intensity = np.max(intensities)\n",
    "    mean_intensity = np.mean(intensities)\n",
    "    std_intensity = np.std(intensities)\n",
    "    \n",
    "    print(f\"Intensity Statistics within the Segmentation Region:\")\n",
    "    print(f\"Minimum Intensity: {min_intensity}\")\n",
    "    print(f\"Maximum Intensity: {max_intensity}\")\n",
    "    print(f\"Mean Intensity: {mean_intensity:0.4f}\")\n",
    "    print(f\"Standard Deviation: {std_intensity:0.4f}\")\n",
    "\n",
    "    plt.figure(figsize=(8, 5))\n",
    "    plt.hist(intensities, bins=50, color='blue', alpha=0.7)\n",
    "\n",
    "    percentages = [0.25, 0.5, 0.75]\n",
    "    for p in percentages:\n",
    "        value = max_intensity * p\n",
    "        print(f\"{int(p * 100)}% of Max: {value:0.4f}\")\n",
    "        plt.axvline(value, color='orange', linestyle='--', label=f'{int(p * 100)}% of Max' if p > 0 else '0% of Max')\n",
    "\n",
    "    plt.axvline(mean_intensity, color='green', linestyle='-', label='Mean')\n",
    "    plt.axvline(mean_intensity + std_intensity, color='red', linestyle='--', label='Mean + 1 STD')\n",
    "    plt.axvline(mean_intensity - std_intensity, color='red', linestyle='--', label='Mean - 1 STD')\n",
    "\n",
    "    plt.title(\"Intensity Distribution within the Segmentation Region\")\n",
    "    plt.xlabel(\"Intensity\")\n",
    "    plt.ylabel(\"Frequency\")\n",
    "    plt.grid()\n",
    "    plt.legend(loc='upper right')\n",
    "    plt.show()"
   ]
  },
  {
   "cell_type": "code",
   "execution_count": 57,
   "metadata": {},
   "outputs": [
    {
     "name": "stdout",
     "output_type": "stream",
     "text": [
      "Intensity Statistics within the Segmentation Region:\n",
      "Minimum Intensity: 0\n",
      "Maximum Intensity: 5108\n",
      "Mean Intensity: 1336.7583\n",
      "Standard Deviation: 1018.2924\n",
      "25% of Max: 1277.0000\n",
      "50% of Max: 2554.0000\n",
      "75% of Max: 3831.0000\n"
     ]
    },
    {
     "data": {
      "image/png": "[encoded data removed]",
      "text/plain": [
       "<Figure size 800x500 with 1 Axes>"
      ]
     },
     "metadata": {},
     "output_type": "display_data"
    }
   ],
   "source": [
    "intensity_distribution(IMAGE_PATH, MASK_PATH)"
   ]
  },
  {
   "cell_type": "code",
   "execution_count": 56,
   "metadata": {},
   "outputs": [],
   "source": [
    "from scipy.ndimage import label, binary_fill_holes, binary_opening\n",
    "\n",
    "def extract_bounding_box(seg_array):\n",
    "    coords = np.argwhere(seg_array > 0)\n",
    "    start = coords.min(axis=0)\n",
    "    end = coords.max(axis=0) + 1  # include the last index\n",
    "    return start, end\n",
    "\n",
    "def apply_threshold(image_array, mask_array, lower_limit, upper_limit):\n",
    "\n",
    "    intensities = image_array[mask_array > 0]\n",
    "\n",
    "    min_intensity = np.min(intensities)\n",
    "    max_intensity = np.max(intensities)\n",
    "    mean_intensity = np.mean(intensities)\n",
    "    std_intensity = np.std(intensities)\n",
    "\n",
    "    lower_threshold = max_intensity * lower_limit # mean_intensity - 0.25 * std_intensity\n",
    "    upper_threshold = max_intensity * upper_limit # mean_intensity + 0.25 * std_intensity\n",
    "    print(f\"Threshold Range: [{lower_threshold:.2f}, {upper_threshold:.2f}]\")\n",
    "    \n",
    "    return ((image_array >= lower_threshold) & (image_array <= upper_threshold)).astype(np.uint8)\n",
    "\n",
    "def refine_thresholded_mask(thresholded_mask):\n",
    "\n",
    "    filled_mask = binary_fill_holes(thresholded_mask)\n",
    "\n",
    "    # apply morphological opening (erosion followed by dilation)\n",
    "    structure = np.ones((1, 1, 1))  # define a 3D structure element\n",
    "    opened_mask = binary_opening(filled_mask, structure=structure)\n",
    "\n",
    "    # retain only the largest connected component\n",
    "    labeled_array, num_features = label(opened_mask)\n",
    "    if num_features > 0:\n",
    "        component_sizes = np.bincount(labeled_array.ravel())\n",
    "        largest_component = np.argmax(component_sizes[1:]) + 1  # exclude background\n",
    "        refined_mask = (labeled_array == largest_component).astype(np.uint8)\n",
    "    else:\n",
    "        refined_mask = np.zeros_like(thresholded_mask, dtype=np.uint8)\n",
    "\n",
    "    return refined_mask\n",
    "\n",
    "def visualize_3d_with_napari(image_path, mask_path, mode):\n",
    "\n",
    "    image = sitk.ReadImage(image_path)\n",
    "    mask = sitk.ReadImage(mask_path)\n",
    "\n",
    "    image_array = sitk.GetArrayFromImage(image)\n",
    "    mask_array = sitk.GetArrayFromImage(mask)\n",
    "\n",
    "    assert image_array.shape == mask_array.shape, \"Image and mask dimensions must match!\"\n",
    "\n",
    "    if mode == \"cropped\":\n",
    "        start, end = extract_bounding_box(mask_array)\n",
    "        image_array = image_array[start[0]:end[0], start[1]:end[1], start[2]:end[2]]\n",
    "        mask_array = mask_array[start[0]:end[0], start[1]:end[1], start[2]:end[2]]\n",
    "\n",
    "        thresholded_mask = apply_threshold(image_array, mask_array, 0.5, 0.75)\n",
    "\n",
    "        # refine thresholded mask\n",
    "        refined_mask = refine_thresholded_mask(thresholded_mask)\n",
    "        full_refined_mask = np.zeros_like(image_array, dtype=np.uint8)\n",
    "        full_refined_mask[mask_array > 0] = refined_mask[mask_array > 0]\n",
    "\n",
    "        viewer = napari.Viewer(ndisplay=3)  # 3D mode\n",
    "        viewer.add_image(image_array, name=\"MRI Image\", colormap=\"gray\", rendering=\"mip\")\n",
    "        viewer.add_labels(mask_array, name=\"Mask\", opacity=0.5)\n",
    "        viewer.add_labels(thresholded_mask, name=\"Thresholded Mask\", opacity=0.6)\n",
    "        viewer.add_labels(full_refined_mask, name=\"Refined Tumor Mask\", opacity=0.7)\n",
    "        # napari.run()\n",
    "    else:\n",
    "        viewer = napari.Viewer(ndisplay=3)  # 3D mode\n",
    "        viewer.add_image(image_array, name=\"MRI Image\", colormap=\"gray\", rendering=\"mip\")\n",
    "        viewer.add_labels(mask_array, name=\"Mask\", opacity=0.5)\n",
    "        # napari.run()"
   ]
  },
  {
   "cell_type": "code",
   "execution_count": 60,
   "metadata": {},
   "outputs": [
    {
     "name": "stdout",
     "output_type": "stream",
     "text": [
      "Threshold Range: [1200.00, 1800.00]\n"
     ]
    }
   ],
   "source": [
    "visualize_3d_with_napari(IMAGE_PATH, MASK_PATH, \"cropped\")"
   ]
  }
 ],
 "metadata": {
  "kernelspec": {
   "display_name": "segment",
   "language": "python",
   "name": "python3"
  },
  "language_info": {
   "codemirror_mode": {
    "name": "ipython",
    "version": 3
   },
   "file_extension": ".py",
   "mimetype": "text/x-python",
   "name": "python",
   "nbconvert_exporter": "python",
   "pygments_lexer": "ipython3",
   "version": "3.10.16"
  }
 },
 "nbformat": 4,
 "nbformat_minor": 2
}
